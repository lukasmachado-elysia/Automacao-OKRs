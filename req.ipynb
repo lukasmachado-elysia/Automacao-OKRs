{
 "cells": [
  {
   "cell_type": "code",
   "execution_count": 1,
   "metadata": {},
   "outputs": [],
   "source": [
    "import requests\n",
    "import pandas as pd\n",
    "import json\n",
    "import time\n",
    "import funcoes\n",
    "from datetime import datetime\n",
    "# configs\n",
    "pd.set_option(\"display.date_dayfirst\", True)\n",
    "# variaveis globais\n",
    "tks = ['HihrPwM6iplpMc20YafyI0X20hYBwMJjn9O5b3uRXLc%3D','NHvW6AeyLM3HFKp1HwXQIbDbGVdDOyMhvbyHgEoZY57S4pEFqdDDKy1R%2FVQHplHm','UVzI3W1fv8mAK28sWaTc%2BOlAefhF1q26WWTfaOmb%2BSY6F1b2IE43cgRMrafYMySh','oAlfna7l2QNiS6nZo4oIQSQCpNo5XX9iydYqEGfMVkDVz8fBG2Vl6bW9lChTtGtP', 'vcMSbDWqyMNu8fcVLol8l0dZ0DZhinIFKyydHCBSAb%2B5RloWjteXNY9345MIcbUQ']\n",
    "metodo = 'GET'\n",
    "url = \"https://elysia.zeev.it\"\n",
    "tipoUrl = \"/api/2/assignments\"\n",
    "filtro = {'flowId': 0}\n",
    "today = datetime.today().strftime('%d/%m/%Y')"
   ]
  },
  {
   "cell_type": "code",
   "execution_count": 89,
   "metadata": {},
   "outputs": [],
   "source": [
    "# Se a API alterar seu campos novamente, sera necessario alterar apenas alguns filtros desta funcao\n",
    "# sem gerar problemas maiores para refatorar este codigo\n",
    "def request_Orquestra(method='GET',urlReq=\"https://elysia.zeev.it\",typeReq=\"/api/2/assignments\",tokens={},filters={}):\n",
    "        retorno = []\n",
    "        try:\n",
    "                # filtros base para o payload\n",
    "                filters['recordsPerPage'] = 100\n",
    "                filters['mobileEnabledOnly'] = False\n",
    "                \n",
    "                # variaveis de controle\n",
    "                row = 1\n",
    "                i = 1\n",
    "                # faz a busca para cada token\n",
    "                for tk in tokens:\n",
    "                        # reseta variaveis de controle\n",
    "                        row = 1\n",
    "                        i = 1\n",
    "                        # tokens de acesso dos usuarios que queremos buscar as atribuicoes\n",
    "                        authorization= {'Authorization': \"Bearer \" + tk}\n",
    "                        while row != 0:\n",
    "                                # aguardo 1s devido ao limite de requisicoes por segundo\n",
    "                                time.sleep(1) \n",
    "                                \n",
    "                                # incremento de pagina\n",
    "                                filters['pageNumber'] = i\n",
    "                                \n",
    "                                # requisicao\n",
    "                                getReq = funcoes.requests_API_Orquestra(metodo=method,urlAcesso=urlReq,tipoAcesso=typeReq,head=authorization,payload=filters)\n",
    "                                \n",
    "                                # resultado json\n",
    "                                result = getReq.json()\n",
    "                                        \n",
    "                                # checa se esta vazio o resultado, o que significa que nao tem mais paginas\n",
    "                                if (len(result) == 0) or (getReq.status_code != 200):\n",
    "                                        # log\n",
    "                                        break\n",
    "                                else:\n",
    "                                        # coloca cada retorno na lista\n",
    "                                        retorno.append(result)\n",
    "                                        i+=1\n",
    "                # cada usuario do token fica em uma uma sublista da lista de retorno\n",
    "                # por isto a necessidade de explodir ela dentro de outra lista\n",
    "                retornoLista = [item for sublista in retorno for item in sublista]\n",
    "                # log\n",
    "                return retornoLista \n",
    "        except Exception as e:\n",
    "                # log\n",
    "                funcoes.printError(e)\n",
    "                return [] "
   ]
  },
  {
   "cell_type": "code",
   "execution_count": 4,
   "metadata": {},
   "outputs": [],
   "source": [
    "# funcao que pega o retorno verifica se eh valido, caso nao seja retornar erro, se for valido formata as datas e começa a contagem de cada \n",
    "# verifica se o retorno eh uma lista \n",
    "def formata_DataFrame(lista):\n",
    "    # verifica se houve retorno\n",
    "    try:\n",
    "        # ocorreu erro ou nao ocorreram retornos - provisorio\n",
    "        if len(lista) <= 0:\n",
    "            return -1\n",
    "        # houve retorno de linhas\n",
    "        elif len(lista) > 0:\n",
    "            df = pd.DataFrame(lista)\n",
    "            # Colocando o idTask para conferencia\n",
    "            df['idTask'] = pd.DataFrame(df['instance'].apply(pd.Series))['id']\n",
    "            # selecionando apenas as colunas necessarias\n",
    "            df = df[['idTask','id','taskName','requestName','startDateTime','expirationDateTime','flow','instance']]\n",
    "\n",
    "            # convertendo colunas para datetime\n",
    "            df['expirationDateTime'] = pd.to_datetime(df['expirationDateTime'], dayfirst=True)\n",
    "            df['startDateTime'] = pd.to_datetime(df['startDateTime'], dayfirst=True)\n",
    "\n",
    "            # formatando data em DD/MM/YY\n",
    "            df.loc[:,'expirationDateTime'] = df.loc[:,'expirationDateTime'].dt.strftime('%d/%m/%Y')\n",
    "            df.loc[:,'startDateTime'] = df.loc[:,'startDateTime'].dt.strftime('%d/%m/%Y')\n",
    "\n",
    "            # remove duplicatas de tarefas\n",
    "            print('Contagem de tarefas \\\"ANTES\\\" da remocao das tarefas duplicatas: {0}'.format(str(len(df))))\n",
    "            df = df.drop_duplicates(subset=['idTask'])\n",
    "            print('Contagem de tarefas \\\"DEPOIS\\\" da remocao das tarefas duplicatas: {0}'.format(str(len(df))))\n",
    "\n",
    "            # adiciona coluna de tarefa atrasada\n",
    "            df['taskAtrasada'] = False\n",
    "            df.loc[today > df['expirationDateTime'],['taskAtrasada']] = True\n",
    "            \n",
    "            # tudo ok, retorna o data frame\n",
    "            return df\n",
    "    except Exception as e:\n",
    "        funcoes.printError(e)\n",
    "        return -1\n"
   ]
  },
  {
   "cell_type": "code",
   "execution_count": 128,
   "metadata": {},
   "outputs": [
    {
     "name": "stdout",
     "output_type": "stream",
     "text": [
      "---> Tipo de requisicao: 'GET'\n",
      "---> Tipo de requisicao: 'GET'\n",
      "---> Tipo de requisicao: 'GET'\n",
      "---> Tipo de requisicao: 'GET'\n",
      "---> Tipo de requisicao: 'GET'\n",
      "---> Tipo de requisicao: 'GET'\n",
      "---> Tipo de requisicao: 'GET'\n",
      "---> Tipo de requisicao: 'GET'\n",
      "---> Tipo de requisicao: 'GET'\n",
      "---> Tipo de requisicao: 'GET'\n",
      "---> Tipo de requisicao: 'GET'\n",
      "Contagem de tarefas \"ANTES\" da remocao das tarefas duplicatas: 284\n",
      "Contagem de tarefas \"DEPOIS\" da remocao das tarefas duplicatas: 253\n"
     ]
    },
    {
     "name": "stderr",
     "output_type": "stream",
     "text": [
      "C:\\Users\\Lukas\\AppData\\Local\\Temp\\ipykernel_15040\\1119755624.py:22: UserWarning: Parsing dates in DD/MM/YYYY format when dayfirst=False (the default) was specified. This may lead to inconsistently parsed dates! Specify a format to ensure consistent parsing.\n",
      "  df.loc[:,'expirationDateTime'] = df.loc[:,'expirationDateTime'].dt.strftime('%d/%m/%Y')\n",
      "C:\\Users\\Lukas\\AppData\\Local\\Temp\\ipykernel_15040\\1119755624.py:22: FutureWarning: In a future version, `df.iloc[:, i] = newvals` will attempt to set the values inplace instead of always setting a new array. To retain the old behavior, use either `df[df.columns[i]] = newvals` or, if columns are non-unique, `df.isetitem(i, newvals)`\n",
      "  df.loc[:,'expirationDateTime'] = df.loc[:,'expirationDateTime'].dt.strftime('%d/%m/%Y')\n",
      "C:\\Users\\Lukas\\AppData\\Local\\Temp\\ipykernel_15040\\1119755624.py:23: UserWarning: Parsing dates in DD/MM/YYYY format when dayfirst=False (the default) was specified. This may lead to inconsistently parsed dates! Specify a format to ensure consistent parsing.\n",
      "  df.loc[:,'startDateTime'] = df.loc[:,'startDateTime'].dt.strftime('%d/%m/%Y')\n",
      "C:\\Users\\Lukas\\AppData\\Local\\Temp\\ipykernel_15040\\1119755624.py:23: FutureWarning: In a future version, `df.iloc[:, i] = newvals` will attempt to set the values inplace instead of always setting a new array. To retain the old behavior, use either `df[df.columns[i]] = newvals` or, if columns are non-unique, `df.isetitem(i, newvals)`\n",
      "  df.loc[:,'startDateTime'] = df.loc[:,'startDateTime'].dt.strftime('%d/%m/%Y')\n",
      "C:\\Users\\Lukas\\AppData\\Local\\Temp\\ipykernel_15040\\1119755624.py:31: SettingWithCopyWarning: \n",
      "A value is trying to be set on a copy of a slice from a DataFrame.\n",
      "Try using .loc[row_indexer,col_indexer] = value instead\n",
      "\n",
      "See the caveats in the documentation: https://pandas.pydata.org/pandas-docs/stable/user_guide/indexing.html#returning-a-view-versus-a-copy\n",
      "  df['taskAtrasada'] = False\n"
     ]
    }
   ],
   "source": [
    "# Para testes\n",
    "lista = request_Orquestra(method=metodo,urlReq=url,typeReq=tipoUrl,tokens=tks)\n",
    "df = formata_DataFrame(lista)"
   ]
  },
  {
   "cell_type": "code",
   "execution_count": 135,
   "metadata": {},
   "outputs": [
    {
     "name": "stdout",
     "output_type": "stream",
     "text": [
      "---> Tipo de requisicao: 'GET'\n",
      "---> Tipo de requisicao: 'GET'\n",
      "---> Tipo de requisicao: 'GET'\n",
      "---> Tipo de requisicao: 'GET'\n",
      "---> Tipo de requisicao: 'GET'\n",
      "---> Tipo de requisicao: 'GET'\n",
      "---> Tipo de requisicao: 'GET'\n",
      "---> Tipo de requisicao: 'GET'\n",
      "---> Tipo de requisicao: 'GET'\n",
      "---> Tipo de requisicao: 'GET'\n",
      "---> Tipo de requisicao: 'GET'\n",
      "Contagem de tarefas \"ANTES\" da remocao das tarefas duplicatas: 284\n",
      "Contagem de tarefas \"DEPOIS\" da remocao das tarefas duplicatas: 253\n",
      "\n",
      "-------------------------------------------------------------------------------------------------------------\n",
      "Contatos Em Aberto CS1 - 7\n",
      "Contatos Efetivos CS1 - \n",
      "Contatos Em Atraso CS1 - 7\n",
      "Contatos Em Aberto CS2 - 103\n",
      "Contatos Efetivos CS2 - 43\n",
      "Contatos Em Atraso CS2 - 58\n",
      "Acompanhamento Personalizado - 19\n",
      "Envio de Layouts Pendentes  - 1\n",
      "Envio de Layouts Realizados - \n",
      "Envio de Layouts Atrasados  - 1\n",
      "Envio de Documentos Pendentes - 0\n",
      "Envio de Documentos Efetivos  - \n",
      "Envio de Documentos Atrasados - 0\n",
      "---------------------------------------------------------------------------------------------------------------\n"
     ]
    },
    {
     "name": "stderr",
     "output_type": "stream",
     "text": [
      "C:\\Users\\Lukas\\AppData\\Local\\Temp\\ipykernel_15040\\1119755624.py:22: UserWarning: Parsing dates in DD/MM/YYYY format when dayfirst=False (the default) was specified. This may lead to inconsistently parsed dates! Specify a format to ensure consistent parsing.\n",
      "  df.loc[:,'expirationDateTime'] = df.loc[:,'expirationDateTime'].dt.strftime('%d/%m/%Y')\n",
      "C:\\Users\\Lukas\\AppData\\Local\\Temp\\ipykernel_15040\\1119755624.py:22: FutureWarning: In a future version, `df.iloc[:, i] = newvals` will attempt to set the values inplace instead of always setting a new array. To retain the old behavior, use either `df[df.columns[i]] = newvals` or, if columns are non-unique, `df.isetitem(i, newvals)`\n",
      "  df.loc[:,'expirationDateTime'] = df.loc[:,'expirationDateTime'].dt.strftime('%d/%m/%Y')\n",
      "C:\\Users\\Lukas\\AppData\\Local\\Temp\\ipykernel_15040\\1119755624.py:23: UserWarning: Parsing dates in DD/MM/YYYY format when dayfirst=False (the default) was specified. This may lead to inconsistently parsed dates! Specify a format to ensure consistent parsing.\n",
      "  df.loc[:,'startDateTime'] = df.loc[:,'startDateTime'].dt.strftime('%d/%m/%Y')\n",
      "C:\\Users\\Lukas\\AppData\\Local\\Temp\\ipykernel_15040\\1119755624.py:23: FutureWarning: In a future version, `df.iloc[:, i] = newvals` will attempt to set the values inplace instead of always setting a new array. To retain the old behavior, use either `df[df.columns[i]] = newvals` or, if columns are non-unique, `df.isetitem(i, newvals)`\n",
      "  df.loc[:,'startDateTime'] = df.loc[:,'startDateTime'].dt.strftime('%d/%m/%Y')\n",
      "C:\\Users\\Lukas\\AppData\\Local\\Temp\\ipykernel_15040\\1119755624.py:31: SettingWithCopyWarning: \n",
      "A value is trying to be set on a copy of a slice from a DataFrame.\n",
      "Try using .loc[row_indexer,col_indexer] = value instead\n",
      "\n",
      "See the caveats in the documentation: https://pandas.pydata.org/pandas-docs/stable/user_guide/indexing.html#returning-a-view-versus-a-copy\n",
      "  df['taskAtrasada'] = False\n"
     ]
    }
   ],
   "source": [
    "def main_Func():\n",
    "    # requisicao com todos os dados iniciais\n",
    "    lista = request_Orquestra(method=metodo,urlReq=url,typeReq=tipoUrl,tokens=tks)\n",
    "    df = formata_DataFrame(lista)\n",
    "\n",
    "    # CS1 Abertos sao os Efetivos Em espera + Em Aberto nas atribuicoes de cada usuario \n",
    "    cs1 = df.loc[(df['requestName'].str.lower().str.replace(\" \",\"\").str.contains('projetov.20')) & (df['taskName'].str.lower().str.contains('ligação do cs'))]\n",
    "    contCs1Abertos = len(cs1) # FALAR COM REQUISITANTE\n",
    "    # CS1 Efetivos sao os Em espera do 'Servico Orquestra'\n",
    "    # ------\n",
    "    # CS1 Atrasados\n",
    "    contCS1Atrasadas = len(cs1.loc[df['taskAtrasada'] == True])\n",
    "\n",
    "    # CS2 Em aberto\n",
    "    cs2 = df.loc[(df['requestName'].str.lower().str.contains('degustação')) | (df['requestName'].str.lower().str.contains('normal')) & ~(df['taskName'].str.lower().str.contains('relatório')) | (df['taskName'].str.lower().str.contains('suporte'))]\n",
    "    contCs2Abertos = len(cs2)\n",
    "    # CS2 Efetivos\n",
    "    cs2Efetivo = cs2.loc[~(cs2['taskName'].str.lower().str.contains('ligação do cs'))]\n",
    "    contCs2Efetivos = len(cs2Efetivo)\n",
    "    # CS2 Atrasados\n",
    "    cs2Atrasados = cs2.loc[(cs2['taskName'].str.lower().str.contains('ligação do cs')) & (cs2['taskAtrasada'] == True)]\n",
    "    contCs2Atrasados = len(cs2Atrasados)\n",
    "\n",
    "    # Acompanhamento Personalizado\n",
    "    contClientesfluxoNormal = len(df.loc[df['requestName'].str.lower().str.contains('normal')])\n",
    "\n",
    "    # Envio de Layout Pendentes   \n",
    "    envLayout = df.loc[(df['requestName'] == 'Projeto  v. 20') & (df['taskName'] == 'Baixar Layout e apresentar ao cliente')]\n",
    "    contEnvLayoutPendentes = len(envLayout)\n",
    "    # Envio de Layout Atrasados\n",
    "    contEnvLayoutAtrasadas = len(envLayout[(envLayout['taskName'] == 'Baixar Layout e apresentar ao cliente') & (envLayout['taskAtrasada'] == True)])\n",
    "\n",
    "    # Envio de Pendentes\n",
    "    envDoc = df.loc[(df['requestName'] == 'Projeto  v. 20') & (df['taskName'] == 'Entregar Documentação ao Cliente')]\n",
    "    envDocPendentes = len(envDoc)\n",
    "    # Envio de Documentos Atrasados\n",
    "    envDocAtrasados = len(envDoc.loc[envDoc['taskAtrasada'] == True])\n",
    "    # Print\n",
    "    print('\\n-------------------------------------------------------------------------------------------------------------')\n",
    "    print('Contatos Em Aberto CS1 - {0}\\nContatos Efetivos CS1 - \\nContatos Em Atraso CS1 - {1}'.format(contCs1Abertos,contCS1Atrasadas)) # falta aberto e efetivo\n",
    "    print('Contatos Em Aberto CS2 - {0}\\nContatos Efetivos CS2 - {1}\\nContatos Em Atraso CS2 - {2}'.format(contCs2Abertos, contCs2Efetivos,contCs2Atrasados)) # concluido\n",
    "    print('Acompanhamento Personalizado - {0}'.format(contClientesfluxoNormal)) # concluido\n",
    "    print('Envio de Layouts Pendentes  - {0}\\nEnvio de Layouts Realizados - \\nEnvio de Layouts Atrasados  - {1}'.format(contEnvLayoutPendentes, contEnvLayoutAtrasadas)) # falta realizados\n",
    "    print('Envio de Documentos Pendentes - {0}\\nEnvio de Documentos Efetivos  - \\nEnvio de Documentos Atrasados - {1}'.format(envDocPendentes, envDocAtrasados)) # falta efetivos\n",
    "    print('---------------------------------------------------------------------------------------------------------------')\n",
    "main_Func()"
   ]
  },
  {
   "cell_type": "markdown",
   "metadata": {},
   "source": [
    "# CS1 \n",
    "* **Contato Em Aberto CS1** - Após a troca do relógio -> CS - DATA DA TROCA DO MEDIDOR - PREENCHIDO\n",
    "  APÓS SER FINALIZADA A TAREFA SAI DO CONTATO EM ABERTO E O CAMPO DE  STATUS CLIENTE FICA COMO: FINALIZADO\n",
    "  *  *OBS: No entanto, a tarefa fica ‘fechada’ temporariamente, então é necessário verificar as tarefas ‘fechadas’ para contabilizar.*\n",
    "* **Contato Efetivo CS1** - STATUS CLIENTE - EM ABERTO - **OK**\n",
    "* **Contato Atrasado CS1**- Apenas os atrasados - **OK**"
   ]
  },
  {
   "cell_type": "markdown",
   "metadata": {},
   "source": [
    "# CS2\n",
    "* **Contato em Aberto CS2** - Contar Degustação e Normal - **OK**\n",
    "    * Verificar a localização do fluxo deles;\n",
    "* **Contato Efetivo CS2** - Mesmo procedimento do CS1 **OK**\n",
    "* **Contato Atrasados** - Mesmo procedimento CS1 - **OK**"
   ]
  },
  {
   "cell_type": "markdown",
   "metadata": {},
   "source": [
    "# Acompanhamento Personalizado \n",
    "* **Nro de Clientes no Fluxo Normal**"
   ]
  },
  {
   "cell_type": "markdown",
   "metadata": {},
   "source": [
    "# Envio de Documentos\n",
    "* **Env. Doc. Pendentes**  - Tarefas do Reginatto -> Envio Documentos Aberto - **OK**\n",
    "* **Env. Doc. Realizados** - Tarefas do Reginatto -> Envio Documentos Fechado\n",
    "* **Env. Doc. Atrasados**  - Tarefas do Reginatto -> Envio Documentos com Atraso - **OK**"
   ]
  },
  {
   "cell_type": "markdown",
   "metadata": {},
   "source": [
    "# Envios Layout - 'Baixar Layout e apresentar ao cliente'\n",
    "* **Envios Layout Pendentes**    - Tarefas do Reginatto -> Baixar Layouts Aberto   - **OK**\n",
    "* **Envios Layout  Realizados**  - Tarefas do Reginatto -> Baixar Layouts Fechado\n",
    "* **Envios Layout Atrasados**    - Tarefas do Reginatto -> Baixar Layouts Atrasado - **OK**"
   ]
  }
 ],
 "metadata": {
  "kernelspec": {
   "display_name": "Python 3.10.7 64-bit",
   "language": "python",
   "name": "python3"
  },
  "language_info": {
   "codemirror_mode": {
    "name": "ipython",
    "version": 3
   },
   "file_extension": ".py",
   "mimetype": "text/x-python",
   "name": "python",
   "nbconvert_exporter": "python",
   "pygments_lexer": "ipython3",
   "version": "3.10.7"
  },
  "orig_nbformat": 4,
  "vscode": {
   "interpreter": {
    "hash": "9ee9defd707f6d081fdcbf65a76d1a753d4fe552b5d7c258c2f2fa8deb871eb0"
   }
  }
 },
 "nbformat": 4,
 "nbformat_minor": 2
}
